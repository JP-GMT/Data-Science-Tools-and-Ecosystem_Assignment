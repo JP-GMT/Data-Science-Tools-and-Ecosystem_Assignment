{
 "cells": [
  {
   "cell_type": "markdown",
   "id": "d4dac209",
   "metadata": {},
   "source": [
    "# Data Science Tools and Ecosystem"
   ]
  },
  {
   "cell_type": "markdown",
   "id": "a10c7e11",
   "metadata": {},
   "source": [
    "In this notebook, Data Science Tools and Ecosystem are summarized."
   ]
  },
  {
   "cell_type": "markdown",
   "id": "81e88b26",
   "metadata": {},
   "source": [
    " **Objectives:**"
   ]
  },
  {
   "cell_type": "markdown",
   "id": "6e6621c6",
   "metadata": {},
   "source": [
    "- Commonly used languages for data science\n",
    "- Commonly used libraries in data science\n",
    "- Convert minutes to hours"
   ]
  },
  {
   "cell_type": "markdown",
   "id": "472499ae",
   "metadata": {},
   "source": [
    "Some of the popular languages that Data Scientists use are: 1.Python, 2.R, 3.SQL, 4.Julia"
   ]
  },
  {
   "cell_type": "markdown",
   "id": "c3976531",
   "metadata": {},
   "source": [
    "Some of the commonly used libraries used by Data Scientists include: 1.TensorFlow; 2.NumPy; 3.SciPy; 4.Pandas"
   ]
  },
  {
   "cell_type": "markdown",
   "id": "62bc1edb",
   "metadata": {},
   "source": [
    "|Data Science Tools|\n",
    "|----|\n",
    "|RStudio|\n",
    "|Apache Spark|\n",
    "|TensorFlow|"
   ]
  },
  {
   "cell_type": "markdown",
   "id": "c64d6de4",
   "metadata": {},
   "source": [
    "### Below are a few examples of evaluating arithmetic expressions in Python"
   ]
  },
  {
   "cell_type": "markdown",
   "id": "c3094b4e",
   "metadata": {},
   "source": [
    "This a simple arithmetic expression to mutiply then add integers"
   ]
  },
  {
   "cell_type": "code",
   "execution_count": 1,
   "id": "4cd80c91",
   "metadata": {},
   "outputs": [
    {
     "data": {
      "text/plain": [
       "17"
      ]
     },
     "execution_count": 1,
     "metadata": {},
     "output_type": "execute_result"
    }
   ],
   "source": [
    "(3*4)+5"
   ]
  },
  {
   "cell_type": "markdown",
   "id": "330453bc",
   "metadata": {},
   "source": [
    "This will convert 200 minutes to hours by diving by 60"
   ]
  },
  {
   "cell_type": "code",
   "execution_count": 3,
   "id": "0147812a",
   "metadata": {},
   "outputs": [
    {
     "data": {
      "text/plain": [
       "3.3333333333333335"
      ]
     },
     "execution_count": 3,
     "metadata": {},
     "output_type": "execute_result"
    }
   ],
   "source": [
    "200/60"
   ]
  },
  {
   "cell_type": "markdown",
   "id": "d10cd5af",
   "metadata": {},
   "source": [
    "## Author\n",
    "Jean-Pierre GNIMATIN"
   ]
  }
 ],
 "metadata": {
  "kernelspec": {
   "display_name": "Python 3 (ipykernel)",
   "language": "python",
   "name": "python3"
  },
  "language_info": {
   "codemirror_mode": {
    "name": "ipython",
    "version": 3
   },
   "file_extension": ".py",
   "mimetype": "text/x-python",
   "name": "python",
   "nbconvert_exporter": "python",
   "pygments_lexer": "ipython3",
   "version": "3.11.2"
  }
 },
 "nbformat": 4,
 "nbformat_minor": 5
}
